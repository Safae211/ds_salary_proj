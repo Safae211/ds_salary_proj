{
 "cells": [
  {
   "cell_type": "code",
   "execution_count": 2,
   "id": "3f961f29-cf29-4b91-b3e0-369b0c56b5cf",
   "metadata": {},
   "outputs": [
    {
     "name": "stdout",
     "output_type": "stream",
     "text": [
      "Failed to fetch page: 403\n"
     ]
    },
    {
     "data": {
      "text/html": [
       "<div>\n",
       "<style scoped>\n",
       "    .dataframe tbody tr th:only-of-type {\n",
       "        vertical-align: middle;\n",
       "    }\n",
       "\n",
       "    .dataframe tbody tr th {\n",
       "        vertical-align: top;\n",
       "    }\n",
       "\n",
       "    .dataframe thead th {\n",
       "        text-align: right;\n",
       "    }\n",
       "</style>\n",
       "<table border=\"1\" class=\"dataframe\">\n",
       "  <thead>\n",
       "    <tr style=\"text-align: right;\">\n",
       "      <th></th>\n",
       "      <th>Salary</th>\n",
       "    </tr>\n",
       "  </thead>\n",
       "  <tbody>\n",
       "  </tbody>\n",
       "</table>\n",
       "</div>"
      ],
      "text/plain": [
       "Empty DataFrame\n",
       "Columns: [Salary]\n",
       "Index: []"
      ]
     },
     "execution_count": 2,
     "metadata": {},
     "output_type": "execute_result"
    }
   ],
   "source": [
    "import requests\n",
    "from bs4 import BeautifulSoup\n",
    "import pandas as pd\n",
    "import time\n",
    "\n",
    "# URL of Glassdoor Data Scientist salaries in the U.S.\n",
    "url = \"https://www.glassdoor.com/Salaries/us-data-scientist-salary-SRCH_IL.0,2_IN1_KO3,17.htm\"\n",
    "\n",
    "# Create headers to mimic a browser\n",
    "headers = {\n",
    "    \"User-Agent\": \"Mozilla/5.0 (Macintosh; Intel Mac OS X 15_6_1) \"\n",
    "                  \"AppleWebKit/537.36 (KHTML, like Gecko) \"\n",
    "                  \"Chrome/117.0.5938.92 Safari/537.36\"\n",
    "}\n",
    "\n",
    "# Send request\n",
    "response = requests.get(url, headers=headers)\n",
    "if response.status_code != 200:\n",
    "    print(\"Failed to fetch page:\", response.status_code)\n",
    "\n",
    "# Parse HTML\n",
    "soup = BeautifulSoup(response.text, \"html.parser\")\n",
    "\n",
    "# Find salary cards (example: main salary numbers)\n",
    "# Note: class names may change; inspect the page in Chrome to verify\n",
    "salary_cards = soup.find_all(\"div\", class_=\"css-1vkp7nv e1wijj242\")  # This is an example, might need to update\n",
    "\n",
    "salaries = []\n",
    "for card in salary_cards:\n",
    "    salary_text = card.get_text(strip=True)\n",
    "    salaries.append(salary_text)\n",
    "\n",
    "# Create a pandas DataFrame\n",
    "df = pd.DataFrame(salaries, columns=[\"Salary\"])\n",
    "\n",
    "salaries = []\n",
    "for i, card in enumerate(salary_cards):\n",
    "    salary_text = card.get_text(strip=True)\n",
    "    salaries.append(salary_text)\n",
    "    print(f\"Scraped {i+1}/{len(salary_cards)} salaries\")\n",
    "    \n",
    "# Show first 5 rows\n",
    "df.head()"
   ]
  },
  {
   "cell_type": "code",
   "execution_count": null,
   "id": "4d33bc4f-fa6d-4dff-a653-1eeb554d7661",
   "metadata": {},
   "outputs": [],
   "source": []
  }
 ],
 "metadata": {
  "kernelspec": {
   "display_name": "Python 3 (ipykernel)",
   "language": "python",
   "name": "python3"
  },
  "language_info": {
   "codemirror_mode": {
    "name": "ipython",
    "version": 3
   },
   "file_extension": ".py",
   "mimetype": "text/x-python",
   "name": "python",
   "nbconvert_exporter": "python",
   "pygments_lexer": "ipython3",
   "version": "3.9.6"
  }
 },
 "nbformat": 4,
 "nbformat_minor": 5
}
